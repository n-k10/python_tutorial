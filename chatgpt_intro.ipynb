{
 "cells": [
  {
   "cell_type": "markdown",
   "metadata": {},
   "source": [
    "# ChatGPT入門\n",
    "\n",
    "## 目的\n",
    "\n",
    "大規模言語モデル(LLM)の一つであるChatGPTは様々な現場で利用されているが，プログラマの世界でも頻繁に使用される  \n",
    "ここでは，今後頻繁に使用するであろうChatGPTのノウハウを養うことを目的とする\n",
    "\n",
    "## 目次\n",
    "\n",
    "- Step0 初期設定\n",
    "- Step1 ChatGPTに質問をしよう\n",
    "- Step2 ChatGPTを実務利用しよう\n",
    "- Extra おしゃべりなChatGPTを作ろう\n",
    "\n",
    "1時間分想定\n",
    "\n",
    "## 注意事項\n",
    "\n",
    "ChatGPTを悪用することのないようにしてください．最近のChatGPTは賢いので読書感想文や課題を簡単に解いてくれます．  \n",
    "そんなつまらないことで利用しても何のためにもなりません．  \n",
    "皆さんは「ChatGPTで解決する」のではなく「ChatGPTを使って成果を生む」ように使ってください．"
   ]
  },
  {
   "cell_type": "markdown",
   "metadata": {},
   "source": [
    "# Step0 初期設定\n",
    "\n",
    "[https://chatgpt.com/](https://chatgpt.com/)にアクセス & Googleアカウント等で連携で完了\n",
    "\n"
   ]
  },
  {
   "cell_type": "markdown",
   "metadata": {},
   "source": [
    "# Step1 ChatGPTに質問しよう\n",
    "\n",
    "まずは簡単な質問を投げてChatGPTに触れてみましょう\n",
    "\n",
    "## Task 1-1\n",
    "\n",
    "プログラミング言語 Python を作成した人の名前を答えよ\n",
    "\n",
    "## 1-1 どう質問するか\n",
    "\n",
    "相手は機械ですので適切に質問しなくてはいけません．例えば次のケースを考えましょう．\n",
    "\n",
    "```\n",
    "観光名所を知りたい\n",
    "```\n",
    "\n",
    "実際にそのままの質問で送ってみましょう．多分役に立たない情報が出てくるはずです．\n",
    "\n",
    "質問を考える際は「あいまいな表現を避けて，具体的な表現で質問する」ことを意識するとよいです．  \n",
    "例えば，「京都の有名なお寺を知りたい」などが良いでしょう．\n",
    "\n",
    "## 1-2 質問する際の注意事項\n",
    "\n",
    "ChatGPTは大規模言語モデル (LLM) です．機械学習の技法によって生まれました (「教師あり学習」より高度な技術)．  \n",
    "なので，あらゆる言語を大量に学習させた結果生まれたものが ChatGPT なのです．  \n",
    "ここで注意したいことが，「あらゆる言語を大量に学習させた事で生まれた」というところです．  \n",
    "皆さんが普段利用する GPT-3.5 は**2021年9月**までの情報で作られています．ですので，**現在の事は全く分からない**のです．  \n",
    "現在の事を聞かないようにすると共に，「現在は違うかもしれない」という視点を常に持っておきましょう．\n",
    "\n",
    "また，ChatGPT に送信された言語も学習の対象になります．  \n",
    "ですので，名前やメールアドレスなどの個人情報を絶対に送らないでください．"
   ]
  },
  {
   "cell_type": "markdown",
   "metadata": {},
   "source": [
    "# Step2 ChatGPT を実務利用しよう\n",
    "\n",
    "## 2-1 プログラミングで使用してみよう\n",
    "\n",
    "ChatGPT は簡単なプログラミングも行うことができます．いくつかの問題を解かせてみましょう．\n",
    "\n",
    "## Task 2-1\n",
    "\n",
    "以下のプログラムを高速化しなさい．各関数の説明を以下に示す．\n",
    "\n",
    "- `calc_sum_cheep` : 1から100000000までの数字を足して，その結果を出力する関数\n",
    "- `calc_sum_fast` : 上記関数を高速化したもの，自分で実装する\n",
    "- `find_num_cheep` : 1から100000000までの数字から特定の数字を探してくる\n",
    "- `find_num_fast` : 上記関数を高速化したもの，自分で実装する\n",
    "\n",
    "※マシンスペックにより$10^8$の計算に耐え切れない場合は0を一つ減らすなどの処理をしてください．"
   ]
  },
  {
   "cell_type": "code",
   "execution_count": null,
   "metadata": {},
   "outputs": [],
   "source": [
    "# 時間計測モジュール\n",
    "import time\n",
    "import random\n",
    "\n",
    "data = list(range(1,100000001))\n",
    "\n",
    "def add_one_to_billion_cheep():\n",
    "    time_start = time.time()\n",
    "    sum = 0\n",
    "    \n",
    "    for num in data:\n",
    "        sum += num\n",
    "    \n",
    "    time_end = time.time()\n",
    "    print(\"Total :\", sum, \", time :\", time_end - time_start)\n",
    "\n",
    "def add_one_to_billion_fast():\n",
    "    pass\n",
    "\n",
    "def find_num_cheep():\n",
    "    target = random.randint(1,100000001)\n",
    "    time_start = time.time()\n",
    "\n",
    "    for num in data:\n",
    "        if num == target:\n",
    "            time_end = time.time()\n",
    "            print(target, \"find! time :\", time_end - time_start)\n",
    "            return\n",
    "    \n",
    "    print(\"Not found...\")\n",
    "\n",
    "def find_num_fast():\n",
    "    pass\n",
    "\n",
    "add_one_to_billion_cheep()\n",
    "add_one_to_billion_fast()\n",
    "find_num_cheep()\n",
    "find_num_fast()"
   ]
  },
  {
   "cell_type": "markdown",
   "metadata": {},
   "source": [
    "今回のように，やってることは同じでも，内部実装を変えることで高速化できました．  \n",
    "この，内部実装の事を **アルゴリズム** と呼びます．世の中には様々なアルゴリズムが研究されています．  \n",
    "皆さんも画期的な高速化アルゴリズムを実装してみてください．"
   ]
  },
  {
   "cell_type": "markdown",
   "metadata": {},
   "source": [
    "## 2-2 (Optional) プロンプトテクニック\n",
    "\n",
    "送信する文字の事を **プロンプト** と呼びます．ここでは，プロンプトのテクニックについて学びます．\n",
    "\n",
    "### Zero-shotプロンプティング\n",
    "\n",
    "Zero-shotプロンプティングとは，あらかじめ情報を与えずに質問のみを投げかけるプロンプトの事です．  \n",
    "次のようにプロンプトを送信します．\n",
    "\n",
    "```\n",
    "以下のテキストを否定的，中立，肯定的のいずれかに分類してください．\n",
    "\n",
    "テキスト : 汚いコードですね\n",
    "所感 : \n",
    "```\n",
    "\n",
    "このようにプロンプトを作ることで，端的な回答が得られます．\n",
    "\n",
    "### Few-shotプロンプティング\n",
    "\n",
    "Few-shotプロンプティングとは，具体例を提示することでタスク実行までの方法を学習させるプロンプトの事です．  \n",
    "次のようにプロンプトを送信します．\n",
    "\n",
    "```\n",
    "あなたは犬です．\n",
    "次のような特徴で話します．\n",
    "\n",
    "# 特徴\n",
    "\n",
    "- 犬の鳴き声で話す (例) ワン・クーン\n",
    "- それ以外の言語は話さない\n",
    "\n",
    "今日のご飯は何食べましたか\n",
    "```\n",
    "\n",
    "このように，ChatGPT に設定を付与することもできます．ただし，何回かプロンプトを送信すると，前のプロンプトを忘れるので注意が必要です．"
   ]
  },
  {
   "cell_type": "markdown",
   "metadata": {},
   "source": [
    "# Extra おしゃべりなChatGPTを作ろう\n",
    "\n",
    "## Ex-Task\n",
    "\n",
    "おじさん構文を話すChatGPTをプロンプトによって作成しなさい．"
   ]
  }
 ],
 "metadata": {
  "kernelspec": {
   "display_name": "Python 3",
   "language": "python",
   "name": "python3"
  },
  "language_info": {
   "codemirror_mode": {
    "name": "ipython",
    "version": 3
   },
   "file_extension": ".py",
   "mimetype": "text/x-python",
   "name": "python",
   "nbconvert_exporter": "python",
   "pygments_lexer": "ipython3",
   "version": "3.10.6"
  }
 },
 "nbformat": 4,
 "nbformat_minor": 2
}
